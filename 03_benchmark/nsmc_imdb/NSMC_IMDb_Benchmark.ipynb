{
 "cells": [
  {
   "cell_type": "code",
   "execution_count": null,
   "id": "0906eb8e-a370-4e76-8da0-6b565a1b8e8f",
   "metadata": {},
   "outputs": [],
   "source": [
    "import os\n",
    "os.environ['CUDA_VISIBLE_DEVICES']='5'"
   ]
  },
  {
   "cell_type": "code",
   "execution_count": null,
   "id": "c6407689-f193-4e86-b246-bfcf8c88b46c",
   "metadata": {},
   "outputs": [],
   "source": [
    "import pandas as pd\n",
    "import torch\n",
    "from torch.utils.data import Dataset, DataLoader\n",
    "from transformers import AutoTokenizer, GPT2ForSequenceClassification, Trainer, TrainingArguments\n",
    "from sklearn.metrics import accuracy_score\n",
    "\n",
    "\n",
    "train = pd.read_csv('./data/ratings_en_train.txt', delimiter='\\t')\n",
    "test = pd.read_csv('./data/ratings_en_test.txt', delimiter='\\t')\n",
    "#train = pd.read_csv('./data/ratings_ko_train.txt', delimiter='\\t')\n",
    "#test = pd.read_csv('./data/ratings_ko_test.txt', delimiter='\\t')\n",
    "\n",
    "model = \"openai-community/gpt2\"\n",
    "#model = \"skt/kogpt2-base-v2\"\n",
    "\n",
    "output_dir = \"./results/imdb\"\n",
    "#output_dir = \"./results/nsmc\""
   ]
  },
  {
   "cell_type": "markdown",
   "id": "a6fbf6aa-385e-41d8-ad54-22f13276d18f",
   "metadata": {},
   "source": [
    "<h3>Setting Hyperparameters"
   ]
  },
  {
   "cell_type": "code",
   "execution_count": null,
   "id": "af47271d-342c-47ee-b24f-a5f91aeeee92",
   "metadata": {},
   "outputs": [],
   "source": [
    "def compute_metrics(p):\n",
    "    preds = p.predictions.argmax(-1)\n",
    "    labels = p.label_ids\n",
    "    acc = accuracy_score(labels, preds)\n",
    "    return {\"eval_accuracy\": acc}\n",
    "\n",
    "# Preprocess the dataset\n",
    "class TextDataset(Dataset):\n",
    "    def __init__(self, texts, labels, tokenizer, max_length):\n",
    "        self.texts = texts\n",
    "        self.labels = labels\n",
    "        self.tokenizer = tokenizer\n",
    "        self.max_length = max_length\n",
    "    \n",
    "    def __len__(self):\n",
    "        return len(self.texts)\n",
    "    \n",
    "    def __getitem__(self, idx):\n",
    "        text = str(self.texts[idx])  # Ensure text is converted to string\n",
    "        label = self.labels[idx]\n",
    "        \n",
    "        # Tokenize text\n",
    "        inputs = self.tokenizer(\n",
    "            text,\n",
    "            truncation=True,\n",
    "            max_length=self.max_length,\n",
    "            padding=\"max_length\",\n",
    "            return_tensors=\"pt\"\n",
    "        )\n",
    "        \n",
    "        input_ids = inputs[\"input_ids\"].squeeze(0)\n",
    "        attention_mask = inputs[\"attention_mask\"].squeeze(0)\n",
    "        \n",
    "        return {\n",
    "            \"input_ids\": input_ids,\n",
    "            \"attention_mask\": attention_mask,\n",
    "            \"labels\": torch.tensor(label, dtype=torch.long)\n",
    "        }\n",
    "\n",
    "\n",
    "# Initialize the tokenizer\n",
    "tokenizer = AutoTokenizer.from_pretrained(model)\n",
    "tokenizer.pad_token_id = tokenizer.eos_token_id\n",
    "\n",
    "# Create the dataset objects\n",
    "max_length = 256  # Adjust according to your model's maximum input length\n",
    "train_dataset = TextDataset(train['document'].tolist(), train['label'].tolist(), tokenizer, max_length=max_length)\n",
    "val_dataset = TextDataset(test['document'].tolist(), test['label'].tolist(), tokenizer, max_length=max_length)\n",
    "\n",
    "# Initialize the model\n",
    "model = GPT2ForSequenceClassification.from_pretrained(model, num_labels=2)\n",
    "model.config.pad_token_id = model.config.eos_token_id\n",
    "\n",
    "model.resize_token_embeddings(len(tokenizer))\n",
    "\n",
    "# Define the training arguments\n",
    "training_args = TrainingArguments(\n",
    "    output_dir=output_dir,\n",
    "    num_train_epochs=3,\n",
    "    per_device_train_batch_size=8,\n",
    "    per_device_eval_batch_size=8,\n",
    "    gradient_accumulation_steps=16,\n",
    "    warmup_steps=500,\n",
    "    weight_decay=0.01,\n",
    "    logging_dir='./logs',\n",
    "    logging_steps=10,\n",
    "    evaluation_strategy=\"steps\",\n",
    "    save_total_limit=2,\n",
    "    eval_steps=100,\n",
    "    metric_for_best_model=\"eval_accuracy\"\n",
    ")"
   ]
  },
  {
   "cell_type": "code",
   "execution_count": null,
   "id": "d2cbcb00-55b7-46e7-89f4-4e7cc72e4ad1",
   "metadata": {},
   "outputs": [],
   "source": [
    "# Initialize the Trainer\n",
    "trainer = Trainer(\n",
    "    model=model,\n",
    "    args=training_args,\n",
    "    train_dataset=train_dataset,\n",
    "    eval_dataset=val_dataset,\n",
    "    tokenizer=tokenizer,\n",
    "    compute_metrics=compute_metrics,\n",
    ")"
   ]
  },
  {
   "cell_type": "markdown",
   "id": "201d4b40-fc80-446a-b55c-26baf66a44de",
   "metadata": {},
   "source": [
    "<h3>Training"
   ]
  },
  {
   "cell_type": "code",
   "execution_count": null,
   "id": "a69f8e9d-af2b-4ea9-8fce-0bf7a0bcef26",
   "metadata": {},
   "outputs": [],
   "source": [
    "trainer.train()"
   ]
  },
  {
   "cell_type": "code",
   "execution_count": null,
   "id": "eb92d96e-bcb8-43fd-a876-4df67cec6bcd",
   "metadata": {},
   "outputs": [],
   "source": [
    "# Evaluate the model\n",
    "results = trainer.evaluate()\n",
    "\n",
    "print(\"Validation Loss:\", results['eval_loss'])\n",
    "print(\"Validation Accuracy:\", results['eval_accuracy'])"
   ]
  },
  {
   "cell_type": "code",
   "execution_count": null,
   "id": "958dd1f8-c145-47a6-a251-831015eed62d",
   "metadata": {},
   "outputs": [],
   "source": [
    "trainer.save_model()"
   ]
  },
  {
   "cell_type": "markdown",
   "id": "bfc20869-dff1-4e3d-8638-a4d3aa848e82",
   "metadata": {},
   "source": [
    "<h3>Evaluation"
   ]
  },
  {
   "cell_type": "code",
   "execution_count": null,
   "id": "59e7c64d-3199-4835-82ca-ea9ca18593f0",
   "metadata": {},
   "outputs": [],
   "source": [
    "from transformers import pipeline\n",
    "\n",
    "classifi = pipeline('text-classification',model=output_dir, tokenizer=output_dir)\n",
    "def classify_review(input):\n",
    "    for line in input:\n",
    "        text = classifi(line)\n",
    "        id2label = {'LABEL_0': \"NEGATIVE\", 'LABEL_1': \"POSITIVE\"}\n",
    "        print(line+\":\",round(text[0]['score']*100,2),\"% 의 확률로 \"+id2label[text[0]['label']]+\"입니다.\")\n"
   ]
  },
  {
   "cell_type": "code",
   "execution_count": null,
   "id": "0a9ea68c-e51d-4f0c-bbdf-e37e546238c9",
   "metadata": {},
   "outputs": [],
   "source": [
    "input = [\"This movie is so boring\",\"Very good movie\", \"I fall asleep during the movie\", \"The best movie of my life\"]\n",
    "#input = [\"이 영화 너무 재미있어요!\",\"너무 실망스러운 영화\", \"보다가 졸려서 잠들었어요\", \"시간 가는 줄 모르고 본 영화\"]"
   ]
  },
  {
   "cell_type": "code",
   "execution_count": null,
   "id": "10bad222-90f4-4695-aa66-74b44518997d",
   "metadata": {},
   "outputs": [],
   "source": [
    "classify_review(input)"
   ]
  },
  {
   "cell_type": "code",
   "execution_count": null,
   "id": "b6b05553-f27f-4cb1-a7f6-a2013f32920c",
   "metadata": {},
   "outputs": [],
   "source": []
  }
 ],
 "metadata": {
  "kernelspec": {
   "display_name": "Python 3 (ipykernel)",
   "language": "python",
   "name": "python3"
  },
  "language_info": {
   "codemirror_mode": {
    "name": "ipython",
    "version": 3
   },
   "file_extension": ".py",
   "mimetype": "text/x-python",
   "name": "python",
   "nbconvert_exporter": "python",
   "pygments_lexer": "ipython3",
   "version": "3.8.0"
  }
 },
 "nbformat": 4,
 "nbformat_minor": 5
}
