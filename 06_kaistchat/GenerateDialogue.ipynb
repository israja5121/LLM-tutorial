{
 "cells": [
  {
   "cell_type": "markdown",
   "id": "5341a807-47e6-4f66-ad40-30bb4966a129",
   "metadata": {},
   "source": [
    "<h3>KAIST Dialogue"
   ]
  },
  {
   "cell_type": "code",
   "execution_count": 1,
   "id": "8ef9a246-50f2-4618-a46f-33db415518cb",
   "metadata": {},
   "outputs": [],
   "source": [
    "import json\n",
    "import random\n",
    "import os\n",
    "\n",
    "\n",
    "with open('./dataset/kaistdialogue.json', 'r') as f:\n",
    "        dialogues = json.load(f)"
   ]
  },
  {
   "cell_type": "code",
   "execution_count": 2,
   "id": "2e71fb04-db3f-403f-a93c-39fa29778df5",
   "metadata": {},
   "outputs": [],
   "source": [
    "with open('./dataset/format/intro.json', 'r') as f:\n",
    "        intro = json.load(f)\n",
    "with open('./dataset/format/interlude.json', 'r') as f:\n",
    "        interlude = json.load(f)\n",
    "with open('./dataset/format/outro.json', 'r') as f:\n",
    "        outro = json.load(f)"
   ]
  },
  {
   "cell_type": "code",
   "execution_count": 3,
   "id": "fc9e0e66-b997-4308-a314-428621a51dfa",
   "metadata": {},
   "outputs": [],
   "source": [
    "extended_dialogue = []\n",
    "\n",
    "for i in range(len(dialogues)):\n",
    "    for j in range(len(dialogues)):\n",
    "        if i != j:\n",
    "            dialogue_1 = []\n",
    "            \n",
    "            for idx_1 in range(len(dialogues[i]['answer'])):\n",
    "                dialogue_1.append(dialogues[i]['question'][idx_1][random.randrange(0,3)])\n",
    "                dialogue_1.append(dialogues[i]['answer'][idx_1])\n",
    "            \n",
    "            dialogue_2 = []\n",
    "            for idx_2 in range(len(dialogues[j]['answer'])):\n",
    "                dialogue_2.append(dialogues[j]['question'][idx_2][random.randrange(0,3)])\n",
    "                dialogue_2.append(dialogues[j]['answer'][idx_2])\n",
    "            \n",
    "            extended_line = []\n",
    "            if random.randrange(0,10) < 1:\n",
    "                extended_line +=  intro[random.randrange(0,5)] + dialogue_1 + dialogue_2 + outro[random.randrange(0,6)]\n",
    "\n",
    "            elif random.randrange(0,10) < 3:\n",
    "                dialogue_2[0] = \"그렇구나. \" + dialogue_2[0]\n",
    "                extended_line +=  intro[random.randrange(0,5)] + dialogue_1 + dialogue_2 + outro[random.randrange(0,6)]\n",
    "\n",
    "            elif random.randrange(0,10) < 4:\n",
    "                dialogue_2[0] = \"그러면, \" + dialogue_2[0]\n",
    "                extended_line +=  intro[random.randrange(0,5)] + dialogue_1 + dialogue_2 + outro[random.randrange(0,6)]\n",
    "            \n",
    "            else:\n",
    "                extended_line +=  intro[random.randrange(0,5)] + dialogue_1 + interlude[random.randrange(0,6)] + dialogue_2 + outro[random.randrange(0,6)]\n",
    "            extended_dialogue.append(extended_line)"
   ]
  },
  {
   "cell_type": "code",
   "execution_count": 4,
   "id": "df7f5973-8e7c-48e0-83fa-6765fa6214fd",
   "metadata": {},
   "outputs": [],
   "source": [
    "with open('./dataset/kaistdialogue_generated.json', 'w') as f:\n",
    "        json.dump(extended_dialogue, f, indent=4, ensure_ascii=False)"
   ]
  },
  {
   "cell_type": "markdown",
   "id": "e0b328ff-2077-4e5c-9964-117ee8c973d6",
   "metadata": {},
   "source": [
    "<h3>KAIST Dialogue (EN)"
   ]
  },
  {
   "cell_type": "code",
   "execution_count": 1,
   "id": "592b4435-93de-4c81-9097-dff8477c91c4",
   "metadata": {},
   "outputs": [],
   "source": [
    "import json\n",
    "import random\n",
    "import os\n",
    "\n",
    "\n",
    "with open('./dataset/kaistdialogue-en.json', 'r') as f:\n",
    "        dialogues = json.load(f)"
   ]
  },
  {
   "cell_type": "code",
   "execution_count": 2,
   "id": "b030165e-3fc1-4d6f-a6f1-d25b5c97edec",
   "metadata": {},
   "outputs": [],
   "source": [
    "with open('./dataset/format/intro-en.json', 'r') as f:\n",
    "        intro = json.load(f)\n",
    "with open('./dataset/format/interlude-en.json', 'r') as f:\n",
    "        interlude = json.load(f)\n",
    "with open('./dataset/format/outro-en.json', 'r') as f:\n",
    "        outro = json.load(f)"
   ]
  },
  {
   "cell_type": "code",
   "execution_count": 3,
   "id": "9f90253d-2cb3-4fd6-8fe2-c835cb2bfee6",
   "metadata": {},
   "outputs": [],
   "source": [
    "extended_dialogue = []\n",
    "\n",
    "for i in range(len(dialogues)):\n",
    "    for j in range(len(dialogues)):\n",
    "        if i != j:\n",
    "            dialogue_1 = []\n",
    "            \n",
    "            for idx_1 in range(len(dialogues[i]['answer'])):\n",
    "                dialogue_1.append(dialogues[i]['question'][idx_1][random.randrange(0,3)])\n",
    "                dialogue_1.append(dialogues[i]['answer'][idx_1])\n",
    "            \n",
    "            dialogue_2 = []\n",
    "            for idx_2 in range(len(dialogues[j]['answer'])):\n",
    "                dialogue_2.append(dialogues[j]['question'][idx_2][random.randrange(0,3)])\n",
    "                dialogue_2.append(dialogues[j]['answer'][idx_2])\n",
    "            \n",
    "            extended_line = []\n",
    "            if random.randrange(0,10) < 1:\n",
    "                extended_line +=  intro[random.randrange(0,5)] + dialogue_1 + dialogue_2 + outro[random.randrange(0,6)]\n",
    "\n",
    "            elif random.randrange(0,10) < 3:\n",
    "                dialogue_2[0] = \"Okay. \" + dialogue_2[0]\n",
    "                extended_line +=  intro[random.randrange(0,5)] + dialogue_1 + dialogue_2 + outro[random.randrange(0,6)]\n",
    "\n",
    "            elif random.randrange(0,10) < 4:\n",
    "                dialogue_2[0] = \"Then, \" + dialogue_2[0]\n",
    "                extended_line +=  intro[random.randrange(0,5)] + dialogue_1 + dialogue_2 + outro[random.randrange(0,6)]\n",
    "            \n",
    "            else:\n",
    "                extended_line +=  intro[random.randrange(0,5)] + dialogue_1 + interlude[random.randrange(0,6)] + dialogue_2 + outro[random.randrange(0,6)]\n",
    "            extended_dialogue.append(extended_line)"
   ]
  },
  {
   "cell_type": "code",
   "execution_count": 4,
   "id": "7a7f7fd8-b720-4822-ab5c-d0d4fb9f9fd9",
   "metadata": {},
   "outputs": [],
   "source": [
    "with open('./dataset/kaistdialogue_generated-en.json', 'w') as f:\n",
    "        json.dump(extended_dialogue, f, indent=4, ensure_ascii=False)"
   ]
  }
 ],
 "metadata": {
  "kernelspec": {
   "display_name": "Python 3 (ipykernel)",
   "language": "python",
   "name": "python3"
  },
  "language_info": {
   "codemirror_mode": {
    "name": "ipython",
    "version": 3
   },
   "file_extension": ".py",
   "mimetype": "text/x-python",
   "name": "python",
   "nbconvert_exporter": "python",
   "pygments_lexer": "ipython3",
   "version": "3.8.0"
  }
 },
 "nbformat": 4,
 "nbformat_minor": 5
}
