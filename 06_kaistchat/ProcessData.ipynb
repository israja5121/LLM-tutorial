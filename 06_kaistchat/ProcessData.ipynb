{
 "cells": [
  {
   "cell_type": "code",
   "execution_count": null,
   "id": "0051e466-3eb1-429d-bfd1-618f0f6ad0ec",
   "metadata": {},
   "outputs": [],
   "source": [
    "import json # import json module\n",
    "\n",
    "# with statement\n",
    "with open('./dataset/kaistdialogue_generated.json', 'r', encoding='utf-8') as json_file:\n",
    "    json_data = json.load(json_file)\n",
    "\n",
    "data2=[]\n",
    "\n",
    "for line in json_data:\n",
    "    data2.append({'dialog': line})\n",
    "\n"
   ]
  },
  {
   "cell_type": "code",
   "execution_count": null,
   "id": "34a9da8b-fe9b-4952-b90d-4864ad64a0f3",
   "metadata": {},
   "outputs": [],
   "source": [
    "import json\n",
    "import random\n",
    "\n",
    "\n",
    "\n",
    "# Assuming you have 15,322 dialogues stored in a list called 'all_dialogues'\n",
    "# Replace this with your actual data loading or generation logic\n",
    "\n",
    "# Example: Generating dummy dialogues\n",
    "all_dialogues = data2\n",
    "\n",
    "# Shuffle the dialogues to ensure randomness\n",
    "\n",
    "random.shuffle(all_dialogues)\n",
    "\n",
    "# Split sizes\n",
    "num_validation = 500\n",
    "num_test = 500\n",
    "\n",
    "# Splitting dialogues\n",
    "validation_set = all_dialogues[:num_validation]\n",
    "test_set = all_dialogues[num_validation:num_validation + num_test]\n",
    "train_set = all_dialogues[num_validation + num_test:]\n",
    "\n",
    "# Write to JSON file\n",
    "output_file = './data/kaist-chatbot/text/train.json'\n",
    "with open(output_file, 'w', encoding='utf-8') as f:\n",
    "    json.dump(train_set, f, indent=4, ensure_ascii=False)\n",
    "\n",
    "output_file = './data/kaist-chatbot/text/test.json'\n",
    "with open(output_file, 'w', encoding='utf-8') as f:\n",
    "    json.dump(test_set, f, indent=4, ensure_ascii=False)\n",
    "\n",
    "output_file = './data/kaist-chatbot/text/validation.json'\n",
    "with open(output_file, 'w', encoding='utf-8') as f:\n",
    "    json.dump(validation_set, f, indent=4, ensure_ascii=False)\n",
    "\n",
    "\n",
    "print(f\"JSON file created successfully with {len(train_set)} training, {len(validation_set)} validation, and {len(test_set)} test dialogues.\")\n"
   ]
  },
  {
   "cell_type": "code",
   "execution_count": null,
   "id": "dce78500-f766-479e-bd33-ac4e5562d326",
   "metadata": {},
   "outputs": [],
   "source": [
    "len(json_data)"
   ]
  }
 ],
 "metadata": {
  "kernelspec": {
   "display_name": "Python 3 (ipykernel)",
   "language": "python",
   "name": "python3"
  },
  "language_info": {
   "codemirror_mode": {
    "name": "ipython",
    "version": 3
   },
   "file_extension": ".py",
   "mimetype": "text/x-python",
   "name": "python",
   "nbconvert_exporter": "python",
   "pygments_lexer": "ipython3",
   "version": "3.8.0"
  }
 },
 "nbformat": 4,
 "nbformat_minor": 5
}
