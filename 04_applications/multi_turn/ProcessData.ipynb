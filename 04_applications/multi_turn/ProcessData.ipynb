{
 "cells": [
  {
   "cell_type": "code",
   "execution_count": 3,
   "id": "014da219-cc61-482f-a798-db660b7fa822",
   "metadata": {},
   "outputs": [],
   "source": [
    "from datasets import load_dataset\n",
    "dataset = load_dataset('daily_dialog')"
   ]
  },
  {
   "cell_type": "code",
   "execution_count": 4,
   "id": "905e5432-780a-4403-917f-480c3dd65ed1",
   "metadata": {
    "scrolled": true
   },
   "outputs": [
    {
     "data": {
      "text/plain": [
       "DatasetDict({\n",
       "    train: Dataset({\n",
       "        features: ['dialog', 'act', 'emotion'],\n",
       "        num_rows: 11118\n",
       "    })\n",
       "    validation: Dataset({\n",
       "        features: ['dialog', 'act', 'emotion'],\n",
       "        num_rows: 1000\n",
       "    })\n",
       "    test: Dataset({\n",
       "        features: ['dialog', 'act', 'emotion'],\n",
       "        num_rows: 1000\n",
       "    })\n",
       "})"
      ]
     },
     "execution_count": 4,
     "metadata": {},
     "output_type": "execute_result"
    }
   ],
   "source": [
    "dataset"
   ]
  },
  {
   "cell_type": "code",
   "execution_count": 10,
   "id": "e1b96cb5-088a-42f0-9956-65ef42f71a58",
   "metadata": {},
   "outputs": [
    {
     "data": {
      "text/plain": [
       "['Say , Jim , how about going for a few beers after dinner ? ',\n",
       " ' You know that is tempting but is really not good for our fitness . ',\n",
       " ' What do you mean ? It will help us to relax . ',\n",
       " \" Do you really think so ? I don't . It will just make us fat and act silly . Remember last time ? \",\n",
       " \" I guess you are right.But what shall we do ? I don't feel like sitting at home . \",\n",
       " ' I suggest a walk over to the gym where we can play singsong and meet some of our friends . ',\n",
       " \" That's a good idea . I hear Mary and Sally often go there to play pingpong.Perhaps we can make a foursome with them . \",\n",
       " ' Sounds great to me ! If they are willing , we could ask them to go dancing with us.That is excellent exercise and fun , too . ',\n",
       " \" Good.Let ' s go now . \",\n",
       " ' All right . ']"
      ]
     },
     "execution_count": 10,
     "metadata": {},
     "output_type": "execute_result"
    }
   ],
   "source": [
    "dataset['train'][0]['dialog']"
   ]
  },
  {
   "cell_type": "code",
   "execution_count": 40,
   "id": "438582ef-352d-46c5-bc2e-7fdf0a9a6562",
   "metadata": {},
   "outputs": [
    {
     "data": {
      "application/vnd.jupyter.widget-view+json": {
       "model_id": "26818bde11de48dfbff960b70e88e2cc",
       "version_major": 2,
       "version_minor": 0
      },
      "text/plain": [
       "Generating train split: 0 examples [00:00, ? examples/s]"
      ]
     },
     "metadata": {},
     "output_type": "display_data"
    },
    {
     "data": {
      "application/vnd.jupyter.widget-view+json": {
       "model_id": "1838b42feb3142d2a18410058ac4dbb6",
       "version_major": 2,
       "version_minor": 0
      },
      "text/plain": [
       "Generating test split: 0 examples [00:00, ? examples/s]"
      ]
     },
     "metadata": {},
     "output_type": "display_data"
    },
    {
     "data": {
      "application/vnd.jupyter.widget-view+json": {
       "model_id": "d45c1b345daf45efa94d7a12376a8f01",
       "version_major": 2,
       "version_minor": 0
      },
      "text/plain": [
       "Generating validation split: 0 examples [00:00, ? examples/s]"
      ]
     },
     "metadata": {},
     "output_type": "display_data"
    }
   ],
   "source": [
    "\n",
    "from datasets import load_dataset\n",
    "dataset = load_dataset('json', data_files={'train':'/home/sslunder24/project/chatbot/train.json',\n",
    "                                            'test': '/home/sslunder24/project/chatbot/test.json',\n",
    "                                            'validation': '/home/sslunder24/project/chatbot/validation.json'}, encoding='utf-8')\n"
   ]
  },
  {
   "cell_type": "code",
   "execution_count": 43,
   "id": "9a940b7f-83b4-4ecb-b61a-27a2f680d4ef",
   "metadata": {},
   "outputs": [
    {
     "data": {
      "text/plain": [
       "{'dialog': ['몇일 전에 보고 다시 만났네요! 저는 지난번에 신강근 교수에 대한 정보를 얻었는데, 그의 연구분야에 대해 더 알고 싶어요. 무선 네트워킹과 네트워크 보안에 대해 어떤 연구를 진행하고 있는 건가요?',\n",
       "  '안녕하세요! 신강근 교수는 무선 네트워킹과 네트워크 보안에 대한 연구를 진행 중이십니다. 그는 실생활 애플리케이션에 결과를 적용하는 여러 연구 프로젝트를 진행하고 계시는군요. 예를 들어, 어떤 예제를 들고 싶으신가요?',\n",
       "  '실제로 실생활에 적용되는 예제를 알고 싶어요. 어떤 프로젝트가 있을까요?',\n",
       "  '예를 들어, 신강근 교수는 스마트 홈 시스템을 개발하기 위한 무선 네트워킹 연구를 진행하고 계십니다. 이를 통해 사용자는 스마트폰이나 태블릿을 통해 집안의 다양한 기기를 제어하고 모니터링할 수 있습니다. 이렇게 무선 네트워킹 기술을 활용한 혁신적인 프로젝트들이 많이 진행되고 있습니다.',\n",
       "  '그렇군요. 저도 스마트 홈 시스템에 관심이 있어요. 어떤 다른 프로젝트들이 있는지 더 알고 싶어요.',\n",
       "  '신강근 교수는 무선 네트워크 보안과 관련된 다양한 프로젝트들도 진행하고 있습니다. 예를 들어, 무선 네트워크 통신 중 발생할 수 있는 보안 취약점을 분석하고 대응하는 연구를 진행하고 계십니다. 이를 통해 무선 네트워크 환경에서 안전하게 통신할 수 있도록 도움을 주고 있습니다. 여러분들이 스마트 디바이스를 사용하는데 있어서 더욱 안전하고 신뢰할 수 있는 환경을 만들기 위해 노력하고 있습니다.',\n",
       "  '국내 스포츠 역사에 대해 진준택이라는 인물에 대해 읽었어요. 더 자세히 알고 싶은데 알려 주실수있나요?',\n",
       "  '진준택(陳準鐸, 1949년 5월 17일 ~ )은 전 대한민국의 배구 선수이자 전 인천 대한항공 점보스의 총감독이며, 대한민국 프로농구 전주 KCC 이지스의 선수로 활약했던 진상원(현재 연세대 농구부 코치)의 아버지이기도 합니다. 진준택 감독의 활약이 궁금하지 않으세요?',\n",
       "  '네, 어떤 분이셨나요? 본인은 배구 선수이자 감독이었고 아들은 농구 선수였다가 감독을 하고 있네요. 부자가 키가 엄청 클 것 같아요.',\n",
       "  '고려증권 배구단 감독을 역임하여 많은 스타 선수들을 양성하였으며, 1998년 고려증권이 IMF 및 모회사의 부도로 해체된 후에는 동해대학교(현 한중대학교)의 교수 겸 감독을 맡기도 했습니다. 이 이후에는 어떤 활동을 했는지 알려 드릴까요?',\n",
       "  '고려증권이 부도되던 시기에 활동을 하셨군요. 동해대학교에서의 감독 이후 어땠나요?',\n",
       "  '2008년에 인천 대한항공 점보스의 감독으로 취임하여 남자 배구 팀 감독에 복귀했으나, 2009~2010 시즌 중 성적 부진과 건강상의 이유로 일선에서 물러나 신영철 세터 코치에게 감독직을 넘겼습니다. 한국 배구에 대해 이야기 할때 빼놓을 수 없는 감독이 진준택 감독입니다.',\n",
       "  '진준택에 대한 토론이 재미있었습니다.',\n",
       "  '진준택 주제에 대해 이야기하는 것은 제가 즐기는 일이에요. 궁금한 점이나 추가 정보를 요청하실 수 있어요.',\n",
       "  '다른 사람이 제 컴퓨터를 쓰고 싶어하네요, 이제 그만 놀아야겠어요. 다음에 또 이야기해요!',\n",
       "  '건강하게 지내세요! 다음에 다시 뵐 날을 기대하고 있어요. 언제든 환영합니다. 안녕히 가세요!']}"
      ]
     },
     "execution_count": 43,
     "metadata": {},
     "output_type": "execute_result"
    }
   ],
   "source": [
    "dataset2['train'][0]"
   ]
  },
  {
   "cell_type": "code",
   "execution_count": 38,
   "id": "0051e466-3eb1-429d-bfd1-618f0f6ad0ec",
   "metadata": {},
   "outputs": [],
   "source": [
    "import json # import json module\n",
    "\n",
    "# with statement\n",
    "with open('/home/sslunder13/project/08_multiturn_chatbot/dataset/11_multi_session_merged.json', 'r', encoding='utf-8') as json_file:\n",
    "    json_data = json.load(json_file)\n",
    "\n",
    "data2=[]\n",
    "\n",
    "for line in json_data:\n",
    "    data2.append({'dialog': line})\n",
    "\n"
   ]
  },
  {
   "cell_type": "code",
   "execution_count": 39,
   "id": "34a9da8b-fe9b-4952-b90d-4864ad64a0f3",
   "metadata": {},
   "outputs": [
    {
     "name": "stdout",
     "output_type": "stream",
     "text": [
      "JSON file created successfully with 13322 training, 1000 validation, and 1000 test dialogues.\n"
     ]
    }
   ],
   "source": [
    "import json\n",
    "\n",
    "# Assuming you have 15,322 dialogues stored in a list called 'all_dialogues'\n",
    "# Replace this with your actual data loading or generation logic\n",
    "\n",
    "# Example: Generating dummy dialogues\n",
    "all_dialogues = data2\n",
    "\n",
    "# Shuffle the dialogues to ensure randomness\n",
    "\n",
    "# Split sizes\n",
    "num_validation = 1000\n",
    "num_test = 1000\n",
    "\n",
    "# Splitting dialogues\n",
    "validation_set = all_dialogues[:num_validation]\n",
    "test_set = all_dialogues[num_validation:num_validation + num_test]\n",
    "train_set = all_dialogues[num_validation + num_test:]\n",
    "\n",
    "# Write to JSON file\n",
    "output_file = './project/chatbot/train.json'\n",
    "with open(output_file, 'w', encoding='utf-8') as f:\n",
    "    json.dump(train_set, f, indent=4)\n",
    "\n",
    "output_file = './project/chatbot/test.json'\n",
    "with open(output_file, 'w', encoding='utf-8') as f:\n",
    "    json.dump(test_set, f, indent=4)\n",
    "\n",
    "output_file = './project/chatbot/validation.json'\n",
    "with open(output_file, 'w', encoding='utf-8') as f:\n",
    "    json.dump(validation_set, f, indent=4)\n",
    "\n",
    "\n",
    "print(f\"JSON file created successfully with {len(train_set)} training, {len(validation_set)} validation, and {len(test_set)} test dialogues.\")\n"
   ]
  },
  {
   "cell_type": "code",
   "execution_count": 35,
   "id": "dce78500-f766-479e-bd33-ac4e5562d326",
   "metadata": {},
   "outputs": [
    {
     "data": {
      "text/plain": [
       "3012"
      ]
     },
     "execution_count": 35,
     "metadata": {},
     "output_type": "execute_result"
    }
   ],
   "source": [
    "len(json_data)"
   ]
  },
  {
   "cell_type": "code",
   "execution_count": 42,
   "id": "52139567-80d4-4145-bd3e-a5a03b81150b",
   "metadata": {},
   "outputs": [],
   "source": []
  },
  {
   "cell_type": "code",
   "execution_count": null,
   "id": "32a6d849-2242-40ca-a0aa-9892554e7a66",
   "metadata": {},
   "outputs": [],
   "source": [
    "dataset3 = load_dataset('json', data_files='/home/sslunder13/project/08_multiturn_chatbot/dataset/11_multi_session_merged.json')"
   ]
  }
 ],
 "metadata": {
  "kernelspec": {
   "display_name": "Python 3 (ipykernel)",
   "language": "python",
   "name": "python3"
  },
  "language_info": {
   "codemirror_mode": {
    "name": "ipython",
    "version": 3
   },
   "file_extension": ".py",
   "mimetype": "text/x-python",
   "name": "python",
   "nbconvert_exporter": "python",
   "pygments_lexer": "ipython3",
   "version": "3.8.0"
  }
 },
 "nbformat": 4,
 "nbformat_minor": 5
}
