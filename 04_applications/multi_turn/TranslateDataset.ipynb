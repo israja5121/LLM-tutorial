{
 "cells": [
  {
   "cell_type": "code",
   "execution_count": 26,
   "id": "13509a0e-d9e2-4b1d-b5f0-2d08b9965be3",
   "metadata": {},
   "outputs": [
    {
     "name": "stderr",
     "output_type": "stream",
     "text": [
      "Some weights of FSMTForConditionalGeneration were not initialized from the model checkpoint at facebook/wmt19-en-de and are newly initialized: ['model.decoder.embed_positions.weight', 'model.encoder.embed_positions.weight']\n",
      "You should probably TRAIN this model on a down-stream task to be able to use it for predictions and inference.\n",
      "100%|█████████████████████████████████████████████████████████████████████████████████████████████████| 14421/14421 [3:41:31<00:00,  1.09it/s]\n"
     ]
    },
    {
     "name": "stdout",
     "output_type": "stream",
     "text": [
      "Translation complete. Translated dialogues saved to 'train_utters.json'.\n"
     ]
    }
   ],
   "source": [
    "import os\n",
    "os.environ['CUDA_VISIBLE_DEVICES']='7'\n",
    "import json\n",
    "import torch\n",
    "from tqdm import tqdm\n",
    "from torch.utils.data import DataLoader, Dataset\n",
    "from transformers import FSMTForConditionalGeneration, FSMTTokenizer\n",
    "\n",
    "# Load your data\n",
    "with open('/home/sslunder24/project/chatbot/koreanmulti/data/openai-community/gpt2/train_utters.json', 'r') as f:\n",
    "    dialogues = json.load(f)\n",
    "\n",
    "chat_len = []\n",
    "\n",
    "# Load the pre-trained seq2seq model and tokenizer\n",
    "device = torch.device('cuda' if torch.cuda.is_available() else 'cpu')\n",
    "tokenizer = FSMTTokenizer.from_pretrained('facebook/wmt19-en-de')\n",
    "model = FSMTForConditionalGeneration.from_pretrained('facebook/wmt19-en-de').to(device)\n",
    "\n",
    "\n",
    "\n",
    "for i, dialogue in enumerate(dialogues):\n",
    "    chat_len.append(len(dialogue))\n",
    "\n",
    "list_dialogue = []\n",
    "\n",
    "for dialogue in dialogues:\n",
    "    for utter in dialogue:\n",
    "        list_dialogue.append(utter)\n",
    "\n",
    "def translate_batch(text_list, batch_size):\n",
    "    translations = []\n",
    "    for i in tqdm(range(0, len(text_list), batch_size)):\n",
    "        batch = text_list[i:i + batch_size]\n",
    "        inputs = tokenizer(batch, return_tensors=\"pt\", padding=True, truncation=True).to(device)\n",
    "        outputs = model.generate(**inputs)\n",
    "        translations.extend([tokenizer.decode(output, skip_special_tokens=True) for output in outputs])\n",
    "    return translations\n",
    "\n",
    "# Translate input sequences in batches with progress tracking\n",
    "batch_size = 32\n",
    "translated_sequences = translate_batch(list_dialogue, batch_size=batch_size)\n",
    "\n",
    "translated_dialogue=[]\n",
    "\n",
    "total_idx = 0\n",
    "\n",
    "for idx in chat_len:\n",
    "    translated_dialogue.append(translated_sequences[total_idx:total_idx+idx])\n",
    "    total_idx = total_idx+idx\n",
    "\n",
    "\n",
    "# Save the translated dialogues to a JSON file\n",
    "with open('./data/dbmdz/german-gpt2/train_utters.json', 'w') as f:\n",
    "    json.dump(translated_dialogue, f, indent=4)\n",
    "\n",
    "print(\"Translation complete. Translated dialogues saved to 'train_utters.json'.\")\n"
   ]
  }
 ],
 "metadata": {
  "kernelspec": {
   "display_name": "Python 3 (ipykernel)",
   "language": "python",
   "name": "python3"
  },
  "language_info": {
   "codemirror_mode": {
    "name": "ipython",
    "version": 3
   },
   "file_extension": ".py",
   "mimetype": "text/x-python",
   "name": "python",
   "nbconvert_exporter": "python",
   "pygments_lexer": "ipython3",
   "version": "3.8.0"
  }
 },
 "nbformat": 4,
 "nbformat_minor": 5
}
