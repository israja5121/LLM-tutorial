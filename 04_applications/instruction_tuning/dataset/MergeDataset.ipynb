{
 "cells": [
  {
   "cell_type": "code",
   "execution_count": 2,
   "id": "08f64370-51e3-4566-853d-accaa0925aa4",
   "metadata": {},
   "outputs": [],
   "source": [
    "import json\n",
    "\n",
    "# Step 1: Load the two JSON files\n",
    "with open('./koalpaca_1.json', 'r') as f:\n",
    "    data1 = json.load(f)\n",
    "\n",
    "with open('./koalpaca_2.json', 'r') as f:\n",
    "    data2 = json.load(f)\n",
    "\n",
    "# Step 2: Merge the two lists\n",
    "merged_data = data1 + data2\n",
    "\n",
    "# Step 3: Save the merged data into a new JSON file\n",
    "with open('./koalpaca.json', 'w') as f:\n",
    "    json.dump(merged_data, f, indent=4)\n"
   ]
  },
  {
   "cell_type": "code",
   "execution_count": null,
   "id": "42ffd674-da73-4e3d-aa2d-3a0a804b8122",
   "metadata": {},
   "outputs": [],
   "source": []
  }
 ],
 "metadata": {
  "kernelspec": {
   "display_name": "Python 3 (ipykernel)",
   "language": "python",
   "name": "python3"
  },
  "language_info": {
   "codemirror_mode": {
    "name": "ipython",
    "version": 3
   },
   "file_extension": ".py",
   "mimetype": "text/x-python",
   "name": "python",
   "nbconvert_exporter": "python",
   "pygments_lexer": "ipython3",
   "version": "3.8.0"
  }
 },
 "nbformat": 4,
 "nbformat_minor": 5
}
