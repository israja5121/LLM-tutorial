{
 "cells": [
  {
   "cell_type": "code",
   "execution_count": 24,
   "id": "08f64370-51e3-4566-853d-accaa0925aa4",
   "metadata": {},
   "outputs": [],
   "source": [
    "import pandas as pd\n",
    "\n",
    "# Step 1: Load the two TSV files\n",
    "df1 = pd.read_csv('./train_freeform_de_1.tsv', sep='\\t')\n",
    "df2 = pd.read_csv('./train_freeform_de_2.tsv', sep='\\t')\n",
    "\n",
    "# Step 2: Concatenate the DataFrames\n",
    "merged_df = pd.concat([df1, df2], ignore_index=True)\n",
    "\n",
    "# Step 3: Save the merged DataFrame to a new TSV file\n",
    "merged_df.to_csv('./train_freeform_de.tsv', sep='\\t', index = False)"
   ]
  }
 ],
 "metadata": {
  "kernelspec": {
   "display_name": "Python 3 (ipykernel)",
   "language": "python",
   "name": "python3"
  },
  "language_info": {
   "codemirror_mode": {
    "name": "ipython",
    "version": 3
   },
   "file_extension": ".py",
   "mimetype": "text/x-python",
   "name": "python",
   "nbconvert_exporter": "python",
   "pygments_lexer": "ipython3",
   "version": "3.8.0"
  }
 },
 "nbformat": 4,
 "nbformat_minor": 5
}
